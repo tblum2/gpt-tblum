{
 "cells": [
  {
   "cell_type": "code",
   "execution_count": 1,
   "metadata": {
    "scrolled": true
   },
   "outputs": [],
   "source": [
    "import gpt as g\n",
    "import matplotlib.pyplot as plt\n",
    "import numpy as np"
   ]
  },
  {
   "cell_type": "markdown",
   "metadata": {},
   "source": [
    "## Lecture 3: A first look at the QCD module.  We generate a quenched ensemble, measure the wilson flow scale and compute a domain-wall pion correlator."
   ]
  },
  {
   "cell_type": "markdown",
   "metadata": {},
   "source": [
    "We start by creating a $8^3 \\times 32$ double precision grid."
   ]
  },
  {
   "cell_type": "code",
   "execution_count": 2,
   "metadata": {},
   "outputs": [],
   "source": [
    "grid = g.grid([8, 8, 8, 32], g.double)"
   ]
  },
  {
   "cell_type": "markdown",
   "metadata": {},
   "source": [
    "Next, we create a parallel pseudorandom number generator and a unit gauge configuration."
   ]
  },
  {
   "cell_type": "code",
   "execution_count": 3,
   "metadata": {},
   "outputs": [
    {
     "name": "stdout",
     "output_type": "stream",
     "text": [
      "GPT :       1.989981 s : Initializing gpt.random(test,vectorized_ranlux24_389_64) took 0.000581026 s\n"
     ]
    }
   ],
   "source": [
    "rng = g.random(\"test\")\n",
    "U = g.qcd.gauge.unit(grid)"
   ]
  },
  {
   "cell_type": "markdown",
   "metadata": {},
   "source": [
    "The gauge field is a list of color matrices, currently initialized to unit matrices."
   ]
  },
  {
   "cell_type": "code",
   "execution_count": 4,
   "metadata": {},
   "outputs": [
    {
     "name": "stdout",
     "output_type": "stream",
     "text": [
      "GPT :       2.322732 s : We live in 4 space-time dimensions\n",
      "GPT :       2.357127 s : U[0][0,0,0,0] = tensor([[1.+0.j 0.+0.j 0.+0.j]\n",
      "                       :  [0.+0.j 1.+0.j 0.+0.j]\n",
      "                       :  [0.+0.j 0.+0.j 1.+0.j]],ot_matrix_su_n_fundamental_group(3))\n"
     ]
    }
   ],
   "source": [
    "Nd = len(U)\n",
    "g.message(f\"We live in {Nd} space-time dimensions\")\n",
    "g.message(f\"U[0][0,0,0,0] = {U[0][0,0,0,0]}\")"
   ]
  },
  {
   "cell_type": "markdown",
   "metadata": {},
   "source": [
    "Next, we will prepare for applying a SU$(2)$ subgroup heatbath algorithm to generate an ensemble of quenched QCD configurations.  A reasonable updating scheme, first updates the even and then the odd sites.  So we need helper fields to mask these subsets."
   ]
  },
  {
   "cell_type": "code",
   "execution_count": 5,
   "metadata": {},
   "outputs": [],
   "source": [
    "grid_eo = grid.checkerboarded(g.redblack)\n",
    "mask_rb = g.complex(grid_eo)\n",
    "mask_rb[:] = 1\n",
    "mask = g.complex(grid)"
   ]
  },
  {
   "cell_type": "markdown",
   "metadata": {},
   "source": [
    "Let us now generate a pure Wilson gauge ensemble with $\\beta=5.5$.  For this, we first define a staple and the parameter."
   ]
  },
  {
   "cell_type": "code",
   "execution_count": 6,
   "metadata": {},
   "outputs": [],
   "source": [
    "# gauge action parameter\n",
    "beta = 5.5\n",
    "\n",
    "# simple plaquette action\n",
    "def staple(U, mu):\n",
    "    st = g.lattice(U[0])\n",
    "    st[:] = 0\n",
    "    Nd = len(U)\n",
    "    for nu in range(Nd):\n",
    "        if mu != nu:\n",
    "            st += beta * g.qcd.gauge.staple(U, mu, nu) / U[0].otype.Nc\n",
    "    return st"
   ]
  },
  {
   "cell_type": "code",
   "execution_count": null,
   "metadata": {},
   "outputs": [
    {
     "name": "stdout",
     "output_type": "stream",
     "text": [
      "GPT :       5.491279 s : SU(2)-subgroup heatbath 0 has P = 1.0, R_2x1 = 1.0\n",
      "GPT :       7.387861 s : SU(2)-subgroup heatbath 1 has P = 0.6690106656133704, R_2x1 = 0.49840042565202647\n",
      "GPT :       9.023182 s : SU(2)-subgroup heatbath 2 has P = 0.5975299501685577, R_2x1 = 0.3989602320643261\n",
      "GPT :      10.746367 s : SU(2)-subgroup heatbath 3 has P = 0.5740740091875974, R_2x1 = 0.3651939333922665\n",
      "GPT :      12.477127 s : SU(2)-subgroup heatbath 4 has P = 0.5602114116790958, R_2x1 = 0.3453226269277516\n",
      "GPT :      14.121398 s : SU(2)-subgroup heatbath 5 has P = 0.5512347885669556, R_2x1 = 0.3330227490132815\n",
      "GPT :      15.788057 s : SU(2)-subgroup heatbath 6 has P = 0.544845988665109, R_2x1 = 0.3246753117627473\n",
      "GPT :      17.507280 s : SU(2)-subgroup heatbath 7 has P = 0.5414547577156114, R_2x1 = 0.3204750536610094\n",
      "GPT :      19.241020 s : SU(2)-subgroup heatbath 8 has P = 0.5389550422162215, R_2x1 = 0.31702852079061467\n",
      "GPT :      20.914516 s : SU(2)-subgroup heatbath 9 has P = 0.5374028782315637, R_2x1 = 0.3148905439777852\n",
      "GPT :      22.632332 s : SU(2)-subgroup heatbath 10 has P = 0.5346290039127518, R_2x1 = 0.3112881296021273\n",
      "GPT :      24.361030 s : SU(2)-subgroup heatbath 11 has P = 0.5335921326134162, R_2x1 = 0.3092732942993302\n",
      "GPT :      26.038766 s : SU(2)-subgroup heatbath 12 has P = 0.5322874688256602, R_2x1 = 0.30679265556378515\n",
      "GPT :      27.769956 s : SU(2)-subgroup heatbath 13 has P = 0.5289926204991454, R_2x1 = 0.30206944240221584\n",
      "GPT :      29.501526 s : SU(2)-subgroup heatbath 14 has P = 0.5267403945504545, R_2x1 = 0.2998278636738916\n",
      "GPT :      31.264851 s : SU(2)-subgroup heatbath 15 has P = 0.524844011142747, R_2x1 = 0.29759322488045653\n",
      "GPT :      33.001929 s : SU(2)-subgroup heatbath 16 has P = 0.5237313830199326, R_2x1 = 0.29594627865584205\n",
      "GPT :      34.684885 s : SU(2)-subgroup heatbath 17 has P = 0.522920792858837, R_2x1 = 0.29452963806969407\n",
      "GPT :      36.448245 s : SU(2)-subgroup heatbath 18 has P = 0.5226964407382239, R_2x1 = 0.29437541039367426\n",
      "GPT :      38.178829 s : SU(2)-subgroup heatbath 19 has P = 0.5223392247506006, R_2x1 = 0.29390568683528345\n",
      "GPT :      39.925034 s : SU(2)-subgroup heatbath 20 has P = 0.5216223902527076, R_2x1 = 0.2918027788743244\n",
      "GPT :      41.657564 s : SU(2)-subgroup heatbath 21 has P = 0.5207595962025413, R_2x1 = 0.290200204618121\n",
      "GPT :      43.403398 s : SU(2)-subgroup heatbath 22 has P = 0.519733778483071, R_2x1 = 0.290367600836325\n",
      "GPT :      45.223571 s : SU(2)-subgroup heatbath 23 has P = 0.5196708381955244, R_2x1 = 0.2893722193465285\n",
      "GPT :      46.937197 s : SU(2)-subgroup heatbath 24 has P = 0.5172227366628563, R_2x1 = 0.2876402995977913\n",
      "GPT :      48.655076 s : SU(2)-subgroup heatbath 25 has P = 0.5163534180788935, R_2x1 = 0.28557873600966577\n",
      "GPT :      50.405115 s : SU(2)-subgroup heatbath 26 has P = 0.5156672373752581, R_2x1 = 0.2842712642212687\n",
      "GPT :      52.138394 s : SU(2)-subgroup heatbath 27 has P = 0.5150003650073333, R_2x1 = 0.28273925238485265\n",
      "GPT :      53.780754 s : SU(2)-subgroup heatbath 28 has P = 0.5129433190441272, R_2x1 = 0.2812615321391777\n",
      "GPT :      55.506207 s : SU(2)-subgroup heatbath 29 has P = 0.5116990438100223, R_2x1 = 0.27846178087801826\n",
      "GPT :      57.245205 s : SU(2)-subgroup heatbath 30 has P = 0.5107232765957525, R_2x1 = 0.2763714406771543\n",
      "GPT :      58.981460 s : SU(2)-subgroup heatbath 31 has P = 0.5104954920223276, R_2x1 = 0.27753305718362126\n",
      "GPT :      60.816124 s : SU(2)-subgroup heatbath 32 has P = 0.5106754690603413, R_2x1 = 0.2770174565265333\n",
      "GPT :      62.544019 s : SU(2)-subgroup heatbath 33 has P = 0.5093600611702327, R_2x1 = 0.2750674462353585\n",
      "GPT :      64.294971 s : SU(2)-subgroup heatbath 34 has P = 0.5082585353910936, R_2x1 = 0.27434614594757506\n",
      "GPT :      66.087397 s : SU(2)-subgroup heatbath 35 has P = 0.5071334023433399, R_2x1 = 0.27217798932709264\n",
      "GPT :      67.830556 s : SU(2)-subgroup heatbath 36 has P = 0.5071350034626354, R_2x1 = 0.2724485086232676\n",
      "GPT :      69.609793 s : SU(2)-subgroup heatbath 37 has P = 0.506870016977918, R_2x1 = 0.2713917370951953\n",
      "GPT :      71.318996 s : SU(2)-subgroup heatbath 38 has P = 0.5058852052322963, R_2x1 = 0.2712790883600712\n",
      "GPT :      73.061368 s : SU(2)-subgroup heatbath 39 has P = 0.5035280494067118, R_2x1 = 0.268747297078194\n",
      "GPT :      74.802784 s : SU(2)-subgroup heatbath 40 has P = 0.5038801871388471, R_2x1 = 0.26834168931737745\n",
      "GPT :      76.527312 s : SU(2)-subgroup heatbath 41 has P = 0.5042787378575962, R_2x1 = 0.2675935088067202\n",
      "GPT :      78.382968 s : SU(2)-subgroup heatbath 42 has P = 0.5037351925818921, R_2x1 = 0.26773372035054294\n",
      "GPT :      80.165989 s : SU(2)-subgroup heatbath 43 has P = 0.5038612459498776, R_2x1 = 0.2676870704221727\n",
      "GPT :      81.920077 s : SU(2)-subgroup heatbath 44 has P = 0.5034777431467431, R_2x1 = 0.26815612444427\n",
      "GPT :      83.615729 s : SU(2)-subgroup heatbath 45 has P = 0.5037059094256053, R_2x1 = 0.2678297239180804\n",
      "GPT :      85.374093 s : SU(2)-subgroup heatbath 46 has P = 0.5010009065457514, R_2x1 = 0.26541783919226236\n",
      "GPT :      87.122261 s : SU(2)-subgroup heatbath 47 has P = 0.5001107143712049, R_2x1 = 0.26496104613474936\n",
      "GPT :      88.862887 s : SU(2)-subgroup heatbath 48 has P = 0.5011764040968186, R_2x1 = 0.26452941104768957\n",
      "GPT :      90.602184 s : SU(2)-subgroup heatbath 49 has P = 0.5004521606524698, R_2x1 = 0.2633316745437089\n",
      "GPT :      92.250752 s : SU(2)-subgroup heatbath 50 has P = 0.4988889364307221, R_2x1 = 0.2624870127876384\n",
      "GPT :      93.976232 s : SU(2)-subgroup heatbath 51 has P = 0.49888546481235907, R_2x1 = 0.26233037218824257\n",
      "GPT :      95.717530 s : SU(2)-subgroup heatbath 52 has P = 0.4969801639675752, R_2x1 = 0.26058430639265506\n",
      "GPT :      97.462998 s : SU(2)-subgroup heatbath 53 has P = 0.4998629956951793, R_2x1 = 0.26259045339384285\n",
      "GPT :      99.213589 s : SU(2)-subgroup heatbath 54 has P = 0.4986234351460021, R_2x1 = 0.26155285868126266\n",
      "GPT :     100.889378 s : SU(2)-subgroup heatbath 55 has P = 0.4979576725216282, R_2x1 = 0.2606595449783995\n",
      "GPT :     102.642531 s : SU(2)-subgroup heatbath 56 has P = 0.49781397879360956, R_2x1 = 0.26028142011990574\n",
      "GPT :     104.397355 s : SU(2)-subgroup heatbath 57 has P = 0.49901341347060796, R_2x1 = 0.26221007643507177\n",
      "GPT :     106.283192 s : SU(2)-subgroup heatbath 58 has P = 0.49828953481209354, R_2x1 = 0.2610478118142403\n",
      "GPT :     108.109776 s : SU(2)-subgroup heatbath 59 has P = 0.49665678106665223, R_2x1 = 0.25977634979116754\n",
      "GPT :     109.954848 s : SU(2)-subgroup heatbath 60 has P = 0.4972345277021711, R_2x1 = 0.2609654041461055\n",
      "GPT :     111.757178 s : SU(2)-subgroup heatbath 61 has P = 0.4974163758043784, R_2x1 = 0.26072194188282377\n",
      "GPT :     113.490659 s : SU(2)-subgroup heatbath 62 has P = 0.4978565693419421, R_2x1 = 0.2602720740207844\n",
      "GPT :     115.263569 s : SU(2)-subgroup heatbath 63 has P = 0.49653073645126256, R_2x1 = 0.2592553971190684\n",
      "GPT :     117.060917 s : SU(2)-subgroup heatbath 64 has P = 0.497602456261169, R_2x1 = 0.26019003994574497\n",
      "GPT :     118.830196 s : SU(2)-subgroup heatbath 65 has P = 0.4966830029630638, R_2x1 = 0.26049768661749023\n",
      "GPT :     120.657806 s : SU(2)-subgroup heatbath 66 has P = 0.4973989678020454, R_2x1 = 0.26117348918295696\n",
      "GPT :     122.414372 s : SU(2)-subgroup heatbath 67 has P = 0.4973696557426377, R_2x1 = 0.2609845040242314\n",
      "GPT :     124.199985 s : SU(2)-subgroup heatbath 68 has P = 0.5005147180983197, R_2x1 = 0.26438278823556394\n",
      "GPT :     125.965409 s : SU(2)-subgroup heatbath 69 has P = 0.49973576517955665, R_2x1 = 0.26338655635021113\n",
      "GPT :     127.767282 s : SU(2)-subgroup heatbath 70 has P = 0.500532384379654, R_2x1 = 0.2643952648274868\n",
      "GPT :     129.551178 s : SU(2)-subgroup heatbath 71 has P = 0.5003875573080852, R_2x1 = 0.26331592367153606\n",
      "GPT :     131.340095 s : SU(2)-subgroup heatbath 72 has P = 0.5001978671314576, R_2x1 = 0.2634170379191232\n",
      "GPT :     133.139511 s : SU(2)-subgroup heatbath 73 has P = 0.500165265396045, R_2x1 = 0.2650662943814332\n",
      "GPT :     134.861890 s : SU(2)-subgroup heatbath 74 has P = 0.5005630038588297, R_2x1 = 0.26412248573070596\n",
      "GPT :     136.650803 s : SU(2)-subgroup heatbath 75 has P = 0.5017330840063213, R_2x1 = 0.264307900021286\n",
      "GPT :     138.434741 s : SU(2)-subgroup heatbath 76 has P = 0.4997013446958436, R_2x1 = 0.2634457625751173\n"
     ]
    },
    {
     "name": "stdout",
     "output_type": "stream",
     "text": [
      "GPT :     140.229697 s : SU(2)-subgroup heatbath 77 has P = 0.49978392775493624, R_2x1 = 0.2633221720791911\n"
     ]
    }
   ],
   "source": [
    "g.default.push_verbose(\"su2_heat_bath\", False) # disable verbose algorithm\n",
    "\n",
    "markov = g.algorithms.markov.su2_heat_bath(rng)\n",
    "\n",
    "for it in range(100):\n",
    "    plaq = g.qcd.gauge.plaquette(U)\n",
    "    R_2x1 = g.qcd.gauge.rectangle(U, 2, 1)\n",
    "    g.message(f\"SU(2)-subgroup heatbath {it} has P = {plaq}, R_2x1 = {R_2x1}\")\n",
    "    for cb in [g.even, g.odd]:\n",
    "        mask[:] = 0\n",
    "        mask_rb.checkerboard(cb)\n",
    "        g.set_checkerboard(mask, mask_rb)\n",
    "\n",
    "        for mu in range(Nd):\n",
    "            st = g.eval(staple(U, mu))\n",
    "            markov(U[mu], st, mask)"
   ]
  },
  {
   "cell_type": "markdown",
   "metadata": {},
   "source": [
    "We can now save the current gauge configuration to a file."
   ]
  },
  {
   "cell_type": "code",
   "execution_count": null,
   "metadata": {},
   "outputs": [],
   "source": [
    "g.save(\"/notebooks/ckpoint.lat\", U, g.format.nersc())"
   ]
  },
  {
   "cell_type": "markdown",
   "metadata": {},
   "source": [
    "For completeness, here is how we would load a gauge configuration:"
   ]
  },
  {
   "cell_type": "code",
   "execution_count": null,
   "metadata": {},
   "outputs": [],
   "source": [
    "Uprime = g.load(\"/notebooks/ckpoint.lat\")"
   ]
  },
  {
   "cell_type": "markdown",
   "metadata": {},
   "source": [
    "Next, let us smear the gauge field using the Wilson flow and a fourth-order Runge-Kutta scheme:"
   ]
  },
  {
   "cell_type": "code",
   "execution_count": null,
   "metadata": {},
   "outputs": [],
   "source": [
    "t = 0.0\n",
    "eps = 0.05\n",
    "U_wf = g.copy(U)\n",
    "plot_x = []\n",
    "plot_y = []\n",
    "for i in range(15):\n",
    "    U_wf = g.qcd.gauge.smear.wilson_flow(U_wf, epsilon=eps)\n",
    "    t += eps\n",
    "    E = g.qcd.gauge.energy_density(U_wf)\n",
    "    g.message(f\"t^2 E(t={t:g})={t**2. * E}\")\n",
    "    plot_x.append(t)\n",
    "    plot_y.append(t**2. * E)"
   ]
  },
  {
   "cell_type": "markdown",
   "metadata": {},
   "source": [
    "We can use this to approximately set a scale for this ensemble:"
   ]
  },
  {
   "cell_type": "code",
   "execution_count": null,
   "metadata": {},
   "outputs": [],
   "source": [
    "plt.plot(plot_x, plot_y, 'ro')\n",
    "plt.show()\n",
    "\n",
    "t0_over_asqr = 0.525\n",
    "ainvOverGeV = 1.3 * t0_over_asqr**0.5  # live in world with t0^-1/2 = 1.3 GeV\n",
    "g.message(f\"Lattice scale is approximately: {ainvOverGeV:.2g} GeV\")"
   ]
  },
  {
   "cell_type": "markdown",
   "metadata": {},
   "source": [
    "Now, let us prepare a mobius domain-wall fermion on this gauge configuration."
   ]
  },
  {
   "cell_type": "code",
   "execution_count": null,
   "metadata": {},
   "outputs": [],
   "source": [
    "qm = g.qcd.fermion.mobius(U, {\n",
    "    \"mass\": 0.12,\n",
    "    \"M5\": 1.8,\n",
    "    \"b\": 1.5,\n",
    "    \"c\": 0.5,\n",
    "    \"Ls\": 12,\n",
    "    \"boundary_phases\": [1.0, 1.0, 1.0, -1.0],\n",
    "})"
   ]
  },
  {
   "cell_type": "markdown",
   "metadata": {},
   "source": [
    "Create a physical four-dimensional propagator using a simple even-odd preconditioned solver."
   ]
  },
  {
   "cell_type": "code",
   "execution_count": null,
   "metadata": {},
   "outputs": [],
   "source": [
    "pc = g.qcd.fermion.preconditioner\n",
    "inv = g.algorithms.inverter\n",
    "\n",
    "g.default.push_verbose(\"cg_convergence\", True) # want to see CG progress\n",
    "Q = qm.propagator(inv.preconditioned(pc.eo2_ne(), inv.cg({\"eps\": 1e-6, \"maxiter\": 100}))).grouped(1)"
   ]
  },
  {
   "cell_type": "markdown",
   "metadata": {},
   "source": [
    "Finally, let us create a point source at the origin and create a propagator field."
   ]
  },
  {
   "cell_type": "code",
   "execution_count": null,
   "metadata": {},
   "outputs": [],
   "source": [
    "src = g.mspincolor(grid)\n",
    "g.create.point(src, [0, 1, 0, 0])\n",
    "\n",
    "prop_field = g.eval( Q * src )"
   ]
  },
  {
   "cell_type": "code",
   "execution_count": null,
   "metadata": {},
   "outputs": [],
   "source": [
    "corr = g.slice(g.trace(prop_field * g.adj(prop_field)),3)"
   ]
  },
  {
   "cell_type": "code",
   "execution_count": null,
   "metadata": {},
   "outputs": [],
   "source": [
    "E_mass = [np.log(corr[t]/corr[t+1]).real for t in range(16)]"
   ]
  },
  {
   "cell_type": "code",
   "execution_count": null,
   "metadata": {},
   "outputs": [],
   "source": [
    "plt.plot(range(16), E_mass, 'ro')\n",
    "plt.ylim(0,2)\n",
    "plt.show()"
   ]
  }
 ],
 "metadata": {
  "kernelspec": {
   "display_name": "Python 3",
   "language": "python",
   "name": "python3"
  },
  "language_info": {
   "codemirror_mode": {
    "name": "ipython",
    "version": 3
   },
   "file_extension": ".py",
   "mimetype": "text/x-python",
   "name": "python",
   "nbconvert_exporter": "python",
   "pygments_lexer": "ipython3",
   "version": "3.9.9"
  },
  "toc": {
   "base_numbering": 1,
   "nav_menu": {},
   "number_sections": true,
   "sideBar": true,
   "skip_h1_title": false,
   "title_cell": "Table of Contents",
   "title_sidebar": "Contents",
   "toc_cell": false,
   "toc_position": {},
   "toc_section_display": true,
   "toc_window_display": false
  }
 },
 "nbformat": 4,
 "nbformat_minor": 4
}
